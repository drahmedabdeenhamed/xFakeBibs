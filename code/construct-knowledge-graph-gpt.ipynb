{
 "cells": [
  {
   "cell_type": "code",
   "execution_count": 1,
   "id": "48e1b480-1902-41e2-96c7-307131b10fe8",
   "metadata": {},
   "outputs": [],
   "source": [
    "import re\n",
    "import nltk\n",
    "import json\n",
    "import random\n",
    "import pickle\n",
    "import pandas as pd\n",
    "import networkx as nx\n",
    "import parsers \n",
    "import pubmed_obo_parser\n",
    "import matplotlib.pyplot as plt\n",
    "from nltk.corpus import stopwords\n",
    "from nltk.tokenize import word_tokenize"
   ]
  },
  {
   "cell_type": "code",
   "execution_count": 2,
   "id": "3e3bd42e-631b-4a94-9a8e-e94988ad512f",
   "metadata": {},
   "outputs": [],
   "source": [
    "disease_dict = pubmed_obo_parser.parse_obo_onto('doid.obo')\n",
    "symp_dict = pubmed_obo_parser.parse_obo_onto('symptoms.obo')"
   ]
  },
  {
   "cell_type": "code",
   "execution_count": 3,
   "id": "07d40ff9-a7ac-4f0c-9db7-b375affcf1a8",
   "metadata": {},
   "outputs": [],
   "source": [
    "def find_word_indices(word, text):\n",
    "    occurrennces = re.finditer(word, text)\n",
    "    all_indexes = []\n",
    "    for occ in occurrennces:\n",
    "        index = occ.start() \n",
    "        all_indexes.append(index)\n",
    "    return all_indexes  \n",
    "\n",
    "def find_first_occurrence_offset(word, sentence):\n",
    "    offset = sentence.find(word)\n",
    "    return offset"
   ]
  },
  {
   "cell_type": "code",
   "execution_count": 4,
   "id": "7599bc6c-a41e-4b5b-887c-28a207593e7a",
   "metadata": {},
   "outputs": [],
   "source": [
    "def calc_distance(index_0, index_1):\n",
    "    distance = -1\n",
    "    if index_1 > index_0:\n",
    "        distance = index_1 - index_0\n",
    "    else:\n",
    "        distance = index_0 - index_1\n",
    "    return distance"
   ]
  },
  {
   "cell_type": "code",
   "execution_count": 5,
   "id": "bdc670c9-ce30-475f-8bbe-68da3be670f8",
   "metadata": {},
   "outputs": [
    {
     "name": "stdout",
     "output_type": "stream",
     "text": [
      "['hello!', 'this is a sample sentence.', \"and here's another one.\"]\n"
     ]
    }
   ],
   "source": [
    "def get_abstract_sentences(text):\n",
    "    # Use the Punkt tokenizer to tokenize the text into sentences.\n",
    "    sentences = nltk.sent_tokenize(text.lower())\n",
    "    return sentences\n",
    "\n",
    "# Example usage:\n",
    "text = \"Hello! This is a sample sentence. And here's another one.\"\n",
    "sentences = get_abstract_sentences(text)\n",
    "print(sentences)"
   ]
  },
  {
   "cell_type": "code",
   "execution_count": 6,
   "id": "8ce42254-8aeb-4d46-a317-7915430524bd",
   "metadata": {},
   "outputs": [],
   "source": [
    "def get_sentence_tokens(one_sentence):\n",
    "    return one_sentence.lower().split()"
   ]
  },
  {
   "cell_type": "code",
   "execution_count": 7,
   "id": "bc707893-0d00-4461-b918-fcbc66c0d4f0",
   "metadata": {},
   "outputs": [
    {
     "name": "stdout",
     "output_type": "stream",
     "text": [
      "Where does Ahmed exist?:  None\n"
     ]
    }
   ],
   "source": [
    "def find_word_first_index(word, sentence):\n",
    "    occurrences = re.finditer(word, sentence)\n",
    "    if len(list(occurrences))> 0:\n",
    "        index_object = list(occurrences)[0]        \n",
    "        return index_object.start()\n",
    "        return -1\n",
    "\n",
    "#  testing \n",
    "index = find_word_first_index(\"Ahmed\", \"is ahmed really a good person?\")\n",
    "print(\"Where does Ahmed exist?: \", index)"
   ]
  },
  {
   "cell_type": "code",
   "execution_count": 8,
   "id": "1f9bca6b-7407-432a-8771-dd5559697dc1",
   "metadata": {},
   "outputs": [],
   "source": [
    "def calc_distance(index_0, index_1):\n",
    "    distance = -1\n",
    "    if index_1 > index_0:\n",
    "        distance = index_1 - index_0\n",
    "    else:\n",
    "        distance = index_0 - index_1\n",
    "    return distance\n",
    "\n",
    "def proximity_distance(node_doid, node_symp):\n",
    "    index0 = node_doid[1]['pos']\n",
    "    index1 = node_symp[1]['pos']    \n",
    "    return abs(index0 - index1)\n",
    "    "
   ]
  },
  {
   "cell_type": "code",
   "execution_count": 9,
   "id": "856377c4-7079-45e7-85fc-64d227276b32",
   "metadata": {},
   "outputs": [],
   "source": [
    "def remove_stopwords(text):\n",
    "    stop_words = set(stopwords.words(\"english\"))\n",
    "    words = word_tokenize(text)\n",
    "    filtered_words = [word for word in words if word.lower() not in stop_words]\n",
    "    return filtered_words\n",
    "\n",
    "def find_adjacent_bigrams(sentence):\n",
    "    bigrams = []\n",
    "    words = sentence.split()\n",
    "    for i in range(len(words) - 1):\n",
    "        bigram = (words[i], words[i + 1])\n",
    "        bigrams.append(bigram)\n",
    "    return bigrams"
   ]
  },
  {
   "cell_type": "code",
   "execution_count": 10,
   "id": "70850576-b7d2-443b-8fb9-77ef14c7dbcc",
   "metadata": {},
   "outputs": [],
   "source": [
    "data = parsers.read_json_file('chatgpt_articles_wids.json')    \n",
    "chatGPT_articles_map = parsers.parse_json_data(data)\n",
    "\n",
    "# parsing pubmed articles from the database file\n",
    "# chatGPT_dict = pubmed_obo_parser.parse_json_file_map(\"chatgpt_articles_wids.json\")"
   ]
  },
  {
   "cell_type": "code",
   "execution_count": 23,
   "id": "1fea2705-4194-417e-b4f2-68f5f8f138d2",
   "metadata": {},
   "outputs": [],
   "source": [
    "# Sample the dictionary of articles\n",
    "    \n",
    "seeds = [191, 111, 123, 124, 125, 235, 239, 745, 908, 987]    \n",
    "    \n",
    "    \n",
    "seed = seeds[9]\n",
    "\n",
    "random.seed(seed)\n",
    "\n",
    "# Choose the number of random indices you want\n",
    "num_indices = 250\n",
    "\n",
    "# Choose random indices (key-value pairs) from the dictionary\n",
    "random_sample = random.sample(list(chatGPT_articles_map.items()), num_indices)\n"
   ]
  },
  {
   "cell_type": "code",
   "execution_count": 24,
   "id": "19dd8c88-cc72-43c6-a42d-ff0a9096233b",
   "metadata": {},
   "outputs": [],
   "source": [
    "# print(random_sample[0])\n",
    "\n",
    "\n",
    "# for a, b in random_sample[0]:\n",
    "#     print(\"a: \", a, \"b: \", b)\n",
    "#     print(\"\\n\")"
   ]
  },
  {
   "cell_type": "code",
   "execution_count": 25,
   "id": "b030bca5-7ab1-4790-89e0-216f71a0d691",
   "metadata": {},
   "outputs": [],
   "source": [
    "# identify diseases mentioned\n",
    "\n",
    "stopper = 0\n",
    "\n",
    "disease_index_pairs = []\n",
    "\n",
    "# reading the dictionary one item at a time\n",
    "# for gptid, abstract in gptid_abstracts_dict.items(): \n",
    "\n",
    "for gptid, abstract in random_sample: \n",
    "\n",
    "    token0_indx = -1\n",
    "    token1_indx = -1    \n",
    "    \n",
    "    \n",
    "    unique_bigrams = []\n",
    "    \n",
    "    for doid_id, disease in disease_dict.items():  \n",
    "        \n",
    "        # print('current disease', type(disease))\n",
    "        if len(disease.split()) == 1:\n",
    "            \n",
    "            if disease in abstract: \n",
    "                # print('single word disease found: ', disease)\n",
    "                token0_index = find_first_occurrence_offset(disease, abstract)                    \n",
    "                disease_index_pairs.append((\"GPT:\"+gptid, doid_id, disease, disease, token0_index))\n",
    "                \n",
    "                \n",
    "        elif len(disease.split()) > 1:\n",
    "            # print('multi word disease found: ', disease)\n",
    "            \n",
    "                        \n",
    "            filtered_words = remove_stopwords(disease)\n",
    "            adjacent_filtered_bigrams_string = \" \".join(filtered_words)\n",
    "\n",
    "            # Generate all possible n-grams from 1 to max_n\n",
    "            adjacent_filtered_bigrams = find_adjacent_bigrams(adjacent_filtered_bigrams_string)\n",
    "\n",
    "            for bigram in adjacent_filtered_bigrams:            \n",
    "                bigram_string = \" \".join(bigram)\n",
    "\n",
    "                # print('next bigram in turn: ', bigram)\n",
    "                if bigram_string in abstract and bigram_string not in unique_bigrams:                  \n",
    "                    unique_bigrams.append(bigram_string)\n",
    "                    token0_index = find_first_occurrence_offset(bigram_string, abstract)                    \n",
    "                    disease_index_pairs.append((\"GPT:\"+gptid, doid_id, disease, bigram_string, token0_index))                    \n",
    "                        \n",
    "    # print('---------------\\n')                            \n",
    "    stopper += 1\n",
    "    if stopper >= 251:\n",
    "        break  "
   ]
  },
  {
   "cell_type": "code",
   "execution_count": 26,
   "id": "5e6bc83f-24f6-43e1-93e0-f0f395417ef6",
   "metadata": {},
   "outputs": [],
   "source": [
    "# identify symptoms mentioned\n",
    "\n",
    "stopper = 0\n",
    "\n",
    "symp_index_pairs = []\n",
    "\n",
    "# reading the dictionary one item at a time\n",
    "# for gptid, abstract in gptid_abstracts_dict.items(): \n",
    "\n",
    "for gptid, abstract in random_sample: \n",
    "\n",
    "    token0_indx = -1\n",
    "    token1_indx = -1    \n",
    "    \n",
    "    unique_bigrams = []\n",
    "    \n",
    "    for symp_id, symp in symp_dict.items():  \n",
    "        \n",
    "        # print('current disease', type(disease))\n",
    "        if len(symp.split()) == 1:\n",
    "            \n",
    "            if symp in abstract: \n",
    "                # print('single word symp found: ', disease)\n",
    "                token0_index = find_first_occurrence_offset(symp, abstract)                    \n",
    "                symp_index_pairs.append((\"GPT:\"+gptid, symp_id, symp, symp, token0_index))\n",
    "                \n",
    "                \n",
    "        elif len(symp.split()) > 1:\n",
    "            # print('multi word symp found: ', disease)\n",
    "            \n",
    "                        \n",
    "            filtered_words = remove_stopwords(symp)\n",
    "            adjacent_filtered_bigrams_string = \" \".join(filtered_words)\n",
    "\n",
    "            # Generate all possible n-grams from 1 to max_n\n",
    "            adjacent_filtered_bigrams = find_adjacent_bigrams(adjacent_filtered_bigrams_string)\n",
    "\n",
    "            for bigram in adjacent_filtered_bigrams:            \n",
    "                bigram_string = \" \".join(bigram)\n",
    "\n",
    "                # print('next bigram in turn: ', bigram)\n",
    "                if bigram_string in abstract and bigram_string not in unique_bigrams:                  \n",
    "                    unique_bigrams.append(bigram_string)\n",
    "                    token0_index = find_first_occurrence_offset(bigram_string, abstract)                    \n",
    "                    symp_index_pairs.append((\"GPT:\"+gptid, symp_id, symp, bigram_string, token0_index))                    \n",
    "                        \n",
    "    # print('---------------\\n')                            \n",
    "    stopper += 1\n",
    "    if stopper >= 251:\n",
    "        break "
   ]
  },
  {
   "cell_type": "code",
   "execution_count": 27,
   "id": "e3123abb-30ca-4218-9995-10e2003f90e9",
   "metadata": {},
   "outputs": [],
   "source": [
    "# Create a disease graph\n",
    "gptid_disease_symp_graph = nx.DiGraph()\n",
    "\n",
    "for disease_info in disease_index_pairs:\n",
    "    \n",
    "    gptid_disease_symp_graph.add_node(disease_info[0], ntype='GPT')\n",
    "    gptid_disease_symp_graph.add_node(disease_info[1], name=disease_info[2], match=disease_info[3], pos=disease_info[4])\n",
    "    gptid_disease_symp_graph.add_edge(disease_info[0], disease_info[1])"
   ]
  },
  {
   "cell_type": "code",
   "execution_count": 28,
   "id": "dfbd740c-a779-4656-8c1f-8acbcad6fb2e",
   "metadata": {},
   "outputs": [
    {
     "name": "stdout",
     "output_type": "stream",
     "text": [
      "133\n"
     ]
    }
   ],
   "source": [
    "# number of edges after adding the diseases\n",
    "print(len(gptid_disease_symp_graph.edges))\n",
    "\n",
    "def proximity_distance(node1, node2):\n",
    "    pos1 = gptid_disease_symp_graph.nodes[node1]['pos']\n",
    "    pos2 = gptid_disease_symp_graph.nodes[node2]['pos']\n",
    "    return abs(pos2 - pos1)\n",
    "\n"
   ]
  },
  {
   "cell_type": "code",
   "execution_count": 29,
   "id": "000c5763-6a2a-4f03-8043-9723e95cb40d",
   "metadata": {},
   "outputs": [],
   "source": [
    "# Contribute the symptoms graph\n",
    "for symp_info in symp_index_pairs:\n",
    "    \n",
    "    gptid_disease_symp_graph.add_node(symp_info[0], ntype='GPT')\n",
    "    gptid_disease_symp_graph.add_node(symp_info[1], name=symp_info[2], match=symp_info[3], pos=symp_info[4])\n",
    "    gptid_disease_symp_graph.add_edge(symp_info[0], symp_info[1])"
   ]
  },
  {
   "cell_type": "code",
   "execution_count": 30,
   "id": "946ff5a0-8d58-43ef-b272-52984dd80cb4",
   "metadata": {},
   "outputs": [
    {
     "name": "stdout",
     "output_type": "stream",
     "text": [
      "number of nodes:  208\n",
      "number of edges:  300\n",
      "\n",
      "\n",
      "\n"
     ]
    }
   ],
   "source": [
    "# number of edges after adding the symptoms\n",
    "# print(len(gptid_disease_symp_graph.edges))\n",
    "\n",
    "# print(\"number of nodes: \", gptid_disease_symp_graph.nodes(data=True))\n",
    "print(\"number of nodes: \", len(gptid_disease_symp_graph.nodes))\n",
    "print(\"number of edges: \", len(gptid_disease_symp_graph.edges))\n",
    "\n",
    "print('\\n\\n')"
   ]
  },
  {
   "cell_type": "code",
   "execution_count": 31,
   "id": "108996f2-b4c7-4430-8c3f-668337bc66f8",
   "metadata": {},
   "outputs": [],
   "source": [
    "# Create links between DOID and SYMP if they share the same GPT and calculate the minimum distances\n",
    "for node in gptid_disease_symp_graph.nodes():\n",
    "    if node.startswith('GPT'):\n",
    "        related_doid = []\n",
    "        related_symp = []\n",
    "        for neighbor in gptid_disease_symp_graph.neighbors(node):\n",
    "            if neighbor.startswith('DOID'):\n",
    "                related_doid.append(neighbor)\n",
    "            elif neighbor.startswith('SYMP'):\n",
    "                related_symp.append(neighbor)\n",
    "\n",
    "        for doid_node in related_doid:\n",
    "            for symp_node in related_symp:\n",
    "                distance = proximity_distance(doid_node, symp_node)\n",
    "                if gptid_disease_symp_graph.has_edge(doid_node, symp_node):\n",
    "                    # Update the distance if a smaller one is found\n",
    "                    current_distance = gptid_disease_symp_graph[doid_node][symp_node].get('distance', float('inf'))\n",
    "                    if distance < current_distance:\n",
    "                        gptid_disease_symp_graph[doid_node][symp_node]['distance'] = distance\n",
    "                else:\n",
    "                    gptid_disease_symp_graph.add_edge(doid_node, symp_node, distance=distance)\n"
   ]
  },
  {
   "cell_type": "code",
   "execution_count": 32,
   "id": "efa7b794-a45c-4f8e-b3c9-15092f99c4c5",
   "metadata": {},
   "outputs": [
    {
     "name": "stdout",
     "output_type": "stream",
     "text": [
      "number of nodes:  208\n",
      "number of edges:  344\n",
      "\n",
      "\n",
      "\n"
     ]
    }
   ],
   "source": [
    "# print(\"number of nodes: \", gptid_disease_symp_graph.nodes(data=True))\n",
    "print(\"number of nodes: \", len(gptid_disease_symp_graph.nodes))\n",
    "print(\"number of edges: \", len(gptid_disease_symp_graph.edges))\n",
    "\n",
    "print('\\n\\n')"
   ]
  },
  {
   "cell_type": "code",
   "execution_count": 33,
   "id": "52b10e20-3db9-4996-aaa6-9dabffb99804",
   "metadata": {},
   "outputs": [
    {
     "data": {
      "image/png": "[encoded data removed]",
      "text/plain": [
       "<Figure size 432x288 with 1 Axes>"
      ]
     },
     "metadata": {},
     "output_type": "display_data"
    },
    {
     "name": "stdout",
     "output_type": "stream",
     "text": [
      "number of nodes:  208\n",
      "number of edges:  344\n"
     ]
    }
   ],
   "source": [
    "# Extract node types\n",
    "gptid_nodes = []\n",
    "doid_nodes = []\n",
    "symp_nodes = []\n",
    "\n",
    "for node, data in gptid_disease_symp_graph.nodes(data=True):\n",
    "    if data.get('ntype') == 'GPT':\n",
    "        gptid_nodes.append(node)        \n",
    "    elif node.startswith('DOID'):\n",
    "        doid_nodes.append(node)        \n",
    "    elif node.startswith('SYMP'):\n",
    "        symp_nodes.append(node)\n",
    "\n",
    "# Visualize the graph\n",
    "pos = nx.spring_layout(gptid_disease_symp_graph, seed=42)\n",
    "nx.draw_networkx_nodes(gptid_disease_symp_graph, pos, nodelist=gptid_nodes, node_size=20, node_color='skyblue', label='GPT')\n",
    "nx.draw_networkx_nodes(gptid_disease_symp_graph, pos, nodelist=doid_nodes, node_size=20, node_color='salmon', label='DOID')\n",
    "nx.draw_networkx_nodes(gptid_disease_symp_graph, pos, nodelist=symp_nodes, node_size=20, node_color='lightgreen', label='SYMP')\n",
    "nx.draw_networkx_edges(gptid_disease_symp_graph, pos)\n",
    "\n",
    "plt.legend()\n",
    "plt.show()\n",
    "\n",
    "print(\"number of nodes: \", len(gptid_disease_symp_graph.nodes))\n",
    "print(\"number of edges: \", len(gptid_disease_symp_graph.edges))"
   ]
  },
  {
   "cell_type": "code",
   "execution_count": 34,
   "id": "2500aff2-8aab-423a-89dd-7939553b4df2",
   "metadata": {},
   "outputs": [],
   "source": [
    "# Write the graph to a pickle file\n",
    "output_file = \"gpt_disease_symp_graph_\"+str(seed)+\"_250abs.pickle\"\n",
    "nx.write_gpickle(gptid_disease_symp_graph, output_file)"
   ]
  },
  {
   "cell_type": "code",
   "execution_count": 35,
   "id": "954e756e-99b9-4e85-a4e2-fe64158b42db",
   "metadata": {},
   "outputs": [],
   "source": [
    "# toload_file = \"gpt_disease_symp_graph_\"+str(seed)+\"_250abs.pickle\"\n",
    "# # Load the graph from the pickle file\n",
    "# with open(toload_file, 'rb') as file:\n",
    "#     loaded_graph = pickle.load(file)\n",
    "\n",
    "# # Verify that the loaded graph is the same as the original graph\n",
    "# print(loaded_graph.nodes(data=True))  # Output: [1, 2]\n",
    "# print(len(loaded_graph.edges()))  # Output: [(1, 2)]"
   ]
  },
  {
   "cell_type": "code",
   "execution_count": null,
   "id": "5d666a62-6e10-4735-9ec9-ba6ea2848099",
   "metadata": {},
   "outputs": [],
   "source": []
  }
 ],
 "metadata": {
  "kernelspec": {
   "display_name": "Python 3 (ipykernel)",
   "language": "python",
   "name": "python3"
  },
  "language_info": {
   "codemirror_mode": {
    "name": "ipython",
    "version": 3
   },
   "file_extension": ".py",
   "mimetype": "text/x-python",
   "name": "python",
   "nbconvert_exporter": "python",
   "pygments_lexer": "ipython3",
   "version": "3.9.12"
  }
 },
 "nbformat": 4,
 "nbformat_minor": 5
}
